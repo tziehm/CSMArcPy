{
 "cells": [
  {
   "cell_type": "markdown",
   "metadata": {},
   "source": [
    "<h1><center>Module 1: Introduction to Python and Jupyter Notebooks</center></h1>\n",
    "\n",
    "Python is a programming language known for its ease of reading and widely active community. It is a solid general-purpose language which is friendly to beginners, especially in the form of its syntax. This module will walk through the basics of Python installation, the installation of the Sublime Text editor, as well as the use and installation of Jupyter Notebooks (Where this module was written, if being viewed in PDF form). This will be structured assuming the operator is running on a Linux machine, but the process will be generally the same across all platforms. \n",
    "\n",
    "### 1.1 Installing Python\n",
    "\n",
    "Python can be downloaded and installed similar to most any other programs you would typically install on your machine. For these modules Python 3 will be employed (particularly Python 3.6.8). You can visit the following [link](https://www.python.org/downloads/) and select the most up to date version pertaining to your operating system. Typically, if you are on a Linux machine Python will be installed with your distribution. You can check your version of Python with the following command: \n",
    "<pre><code>$ python3 --version </code></pre>\n",
    "\n",
    "If the command is not found and you are running Ubuntu, use the following commands to install Python, where X.X represent the target version (for these modules, I would recommend 3.6):\n",
    "\n",
    "<pre><code>$ sudo apt-get update\n",
    "$ sudo apt-get install pythonX.X</code></pre>\n",
    "\n",
    "If you are installing Python version 3.4 or later, it will also include 'pip' which is the package installer for Python. This allows you to install useful packages which allow access to predefined methods which make programming much easier. More on this later!\n",
    "\n",
    "Now, with Python installed you should be able to open a terminal and issue the following command:\n",
    "\n",
    "<pre><code>$ python3</code></pre>\n",
    "\n",
    "This should grant access to the default Python interpretor (also known as the Python Shell). From here, simple commands can be issued on a line by line basis. For example, lets carry out a simple math problem:\n",
    "\n",
    "<pre><code>>>> x = 10\n",
    ">>> y = 2\n",
    ">>> x+y</code></pre>\n",
    "\n",
    "The first two lines initialize integer variables (10,2) and the final line tells the interpretor to add the two variables together and return the result (12). To exit the intepretor, press Ctrl+z if on a Linux machine to return to the terminal.\n",
    "\n",
    "### 1.2 Installing Sublime Text Editor\n",
    "\n",
    "As I am sure you noticed, working with the default interpretor is interesting but impractical. This is where text editors come in - programs which allow you to write out and issue multiples lines of code in the form of scripts (.py files). There are many text editors available on the internet such as VI, Atom, Sublime, and Eclipse, however the following steps will outline the installation and use of Sublime. \n",
    "\n",
    "To install Sublime, follow this [link](https://www.sublimetext.com/3) and select the link for your operating system. If you are running Ubuntum, the following commands will install Sublime:\n",
    "\n",
    "<pre><code>$ wget -qO - https://download.sublimetext.com/sublimehq-pub.gpg | sudo apt-key add -\n",
    "\n",
    "$ echo \"deb https://download.sublimetext.com/ apt/stable/\" | sudo tee /etc/apt/sources.list.d/sublime-text.list\n",
    "\n",
    "$ sudo apt-get update\n",
    "\n",
    "$ sudo apt-get install sublime-text</code></pre>\n",
    "\n",
    "The latest version of the Sublime Text editor should now be installed on your machine, and should be visible with your other applications. When opened, you should be greeted with the following black screen:\n",
    "\n",
    "<img src=\"figs/sub.png\" width=\"500\">\n",
    "\n",
    "Sublime has immense customization options, so make sure to poke around the Preferences tab to make it your own. With Sublime installed, Python scripts can be written and built! This is entirely offline, meaning you can write, test, and compile Python scripts on the go. The following is the typical beginner Python script written in Sublime:\n",
    "\n",
    "<img src=\"figs/hw.png\" width=\"500\">\n",
    "\n",
    "As you can see, the colors in the above picture are likely different from those on your screen. That is because the above is saved as a .py file which Sublime registers as a Python script. Knowing this allows Sublime to color code each phrase corresponding to how the interpretor will read it. These can be customized via the Preferences tab if you so choose. \n",
    "\n",
    "Once written and saved, this program can be build via Sublimes Python Interpretor by pressing Ctrl+b. The following should be your result:\n",
    "\n",
    "<img src=\"figs/hwB.png\" width=\"500\">\n",
    "\n",
    "Congratulations! You have now compiled your first Python script! The results of the script are displayed in the window below the editor, along with the time required to run that script. You can also run compiled Pyton scripts via the Terminal by opening a Terminal in the directory of your .py file and issuing the following command:\n",
    "\n",
    "<pre><code>$ python3 XXX.py </code></pre>\n",
    "\n",
    "Where the results will be displayed in the Terminal window should you print/return them.\n",
    "\n",
    "### 1.3 Linux Introduction\n",
    "\n",
    "By now, you should have issued some commands via the Terminal in your Linux distribution that you likely have not understood fully. This section will help to familiarize yourself with navigating the Terminal and most Linux distributions.\n",
    "\n",
    "In Ubuntu, you can open a Terminal via searching your Applications and selecting \"Terminal\", or you can use the keyboard shortcut: Ctrl+Shift+t. Once open, you are presented with the following window:\n",
    "\n",
    "<img src=\"figs/tm.png\" width=\"500\">\n",
    "\n",
    "This should be an interface that you grow accustomed to seeing and working with. Many of the commands you have utilized so far have involved the term 'sudo' at the beginning. To the Terminal, this translates to \"Super user do\", which in Windows speak means \"Run as administrator\". This is typically required for any command which will download or install a package, or edit files that are in protected directories. \n",
    "\n",
    "Before there were file explorers, there were Terminals. This means that you can navigate through directories, open/create/remove directories, and open/create/remove files. Below is a list of typical commands that you will use frequently:\n",
    "\n",
    "| Command | Purpose                                                               | Example               |\n",
    "|---------|-----------------------------------------------------------------------|-----------------------|\n",
    "| ls      | List contents of current directory                                    | \\$ls                   |\n",
    "| cd      | Change directory                                                      | \\$cd Desktop           |\n",
    "| cd ..   | Move up one directory                                                 | \\$cd ..                |\n",
    "| pwd     | Print working directory                                               |  \\$pwd                 |\n",
    "| mkdir   | Make directory, either at the current location or specified directory | \\$mkdir Test           |\n",
    "| touch   | Create an empty file with the given name and path                     | \\$touch /path/filename |\n",
    "| nano    | If Nano is installed, open and edit the target file                   | \\$nano Test.txt        |\n",
    "| rm      | Delete a file                                                         |  \\$rm filename         |\n",
    "| rmdir   | Delete an empty directory                                             | \\$rmdir Test           |\n",
    "| rm -r   | Delete a directory and all its contents                               | \\$rm -r Test           |\n",
    "\n",
    "To begin honing your Linux skills, create a folder in your Documents directory for these Modules. Title it whatever you like, but only use the command line interface to create and navigate to that directory. \n",
    "\n",
    "### 1.4 Jupyter Notebooks\n",
    "\n",
    "Local text editors are great for writing personal scripts to accomplish tasks, but as a form of deliverable or manual it can become taxing to understand at first glance. Jupyter Notebooks allows for a more seamless integration of code and text explanations through various Cells, utilizing Markdown alongside Python to deliver more comprehensive deliverables. In fact, all of the Modules you will work through have been written in Jupyter Notebooks with a Python3 compiler!\n",
    "\n",
    "Installing Jupyter Notebooks is relatively straightforward, and similar to the preceeding sections. On Linux machines, make sure to install ipython and then can utilize pip to install jupyter via the Terminal:\n",
    "\n",
    "<pre><code>$ sudo apt-get -y install ipython ipython-notebook\n",
    "$ pip install jupyter</pre></code>\n",
    "\n",
    "Once installed, issue the following command in the Terminal window while in your custom directory to arrive at a screen similar to the following:\n",
    " \n",
    "<pre><code>$ jupyter notebook </pre></code>\n",
    "\n",
    "<img src=\"figs/jn.png\" width=\"500\"> \n",
    "\n",
    "This can be opened in a Terminal browser, or that of your default Web browser depending on your personal settings. You have not created a Notebook yet, just opened Jupyters file explorer where you can navigate your file system, make directories, rename files, and most importantly, create Jupyter Notebooks. When you are in your target directory, select \"New\" in the upper right hand corner, followed by \"Python 3\". You have now created and opened your first Jupyter Notebook!\n",
    "\n",
    "<img src=\"figs/jnF.png\" width=\"500\">\n",
    "\n",
    "The above Figure shows the typical Jupyter Notebook, with the first cell always being a Code cell. In these cells you can write Python code directly, and use Shift+Enter to run the cell. This is the same setup as the Sublime Text Editor, but without a Build window and different keyboard shortcut. You can always distinguish a Code cell by the dropdown in the center of the header bar, as well as with the 'In' designating 'Input'. In addition to Code cells there are Markdown cells, which allow for the formatting of text in a specified syntax that is used around various programs online (LaTex being a notable example). This module thus far has been written in a Markdown cell! You can switch between cell types via the dropdown menu in the middle of the header bar. Markdown is really a skill that can only be learned with time and cheatsheets, the [following of which has been a favorite of mine.](https://github.com/adam-p/markdown-here/wiki/Markdown-Cheatsheet#links)\n",
    "\n",
    "## 1.5 Back to Python: Variables and Data Storage\n",
    "\n",
    "Now that you have the fundamental tools installed, it is time to begin actually learning Python. The following skills will be relatively consistent between most computer languages, differing mainly in the syntax. Now that you have Jupyter notebooks installed, I would recommend opening the Jupyter notebook version of this Module and working through the following examples.\n",
    "\n",
    "\n",
    "### 1.5.1 Variables\n",
    "In Python you will mainly interface with variables to accomplish your tasks. There are two main types of variables that are common throughout most languages:\n",
    "* Numbers\n",
    "* Strings\n",
    "\n",
    "#### 1.5.1.1 Numbers\n",
    "Numbers are created just as you would imagine: x = 1, y = 2, etc. However, not all numbers are created equal in Python. Primarily, you will interact with Integers and Floats: the difference being Integers are whole numbers whereas Floats involve decimals. So, x = 1 is an Integer whereas x = 1.0 is a Float. This seems pretty straightforward, however remembering this distinction as you program can be important while debugging. Some functions will only accept Integers as inputs, so keeping track of what's what is worthwhile. Run the following cell to see an example of this:"
   ]
  },
  {
   "cell_type": "code",
   "execution_count": 30,
   "metadata": {},
   "outputs": [
    {
     "name": "stdout",
     "output_type": "stream",
     "text": [
      "<class 'int'>\n",
      "<class 'float'>\n"
     ]
    }
   ],
   "source": [
    "x = 1\n",
    "y = 1.0 \n",
    "print(type(x))\n",
    "print(type(y))"
   ]
  },
  {
   "cell_type": "markdown",
   "metadata": {},
   "source": [
    "#### 1.5.1.2 Strings\n",
    "Strings are how Python stores text suchas \"Hello World\". They are always initialized with quotations (either double or single). Strings are immutable variables, meaning they cannot be manipulated directly once they are assigned. They can be sliced, and accessed via their indices, but they cannot be changed once they are created. This will become more important as you work with strings, but remembering this property is critical to avoid future frustrations."
   ]
  },
  {
   "cell_type": "code",
   "execution_count": 31,
   "metadata": {},
   "outputs": [
    {
     "name": "stdout",
     "output_type": "stream",
     "text": [
      "Test\n",
      "T\n",
      "Te\n"
     ]
    },
    {
     "ename": "TypeError",
     "evalue": "'str' object does not support item assignment",
     "output_type": "error",
     "traceback": [
      "\u001b[0;31m---------------------------------------------------------------------------\u001b[0m",
      "\u001b[0;31mTypeError\u001b[0m                                 Traceback (most recent call last)",
      "\u001b[0;32m<ipython-input-31-b1afd33d7ae2>\u001b[0m in \u001b[0;36m<module>\u001b[0;34m\u001b[0m\n\u001b[1;32m      3\u001b[0m \u001b[0mprint\u001b[0m\u001b[0;34m(\u001b[0m\u001b[0mstrTest\u001b[0m\u001b[0;34m[\u001b[0m\u001b[0;36m0\u001b[0m\u001b[0;34m]\u001b[0m\u001b[0;34m)\u001b[0m\u001b[0;34m\u001b[0m\u001b[0;34m\u001b[0m\u001b[0m\n\u001b[1;32m      4\u001b[0m \u001b[0mprint\u001b[0m\u001b[0;34m(\u001b[0m\u001b[0mstrTest\u001b[0m\u001b[0;34m[\u001b[0m\u001b[0;36m0\u001b[0m\u001b[0;34m:\u001b[0m\u001b[0;36m2\u001b[0m\u001b[0;34m]\u001b[0m\u001b[0;34m)\u001b[0m\u001b[0;34m\u001b[0m\u001b[0;34m\u001b[0m\u001b[0m\n\u001b[0;32m----> 5\u001b[0;31m \u001b[0mstrTest\u001b[0m\u001b[0;34m[\u001b[0m\u001b[0;36m0\u001b[0m\u001b[0;34m]\u001b[0m \u001b[0;34m=\u001b[0m \u001b[0;34m\"L\"\u001b[0m\u001b[0;34m\u001b[0m\u001b[0;34m\u001b[0m\u001b[0m\n\u001b[0m",
      "\u001b[0;31mTypeError\u001b[0m: 'str' object does not support item assignment"
     ]
    }
   ],
   "source": [
    "strTest = \"Test\"\n",
    "print(strTest)\n",
    "print(strTest[0])\n",
    "print(strTest[0:2])\n",
    "strTest[0] = \"L\""
   ]
  },
  {
   "cell_type": "markdown",
   "metadata": {},
   "source": [
    "### 1.5.2 Data Storage\n",
    "Now that you understand how to create variables, it is important to understand how best to store, sort, and manipulate them. This is where Lists, Dictionaries, and Tuples come into play. These are additional data types that store other data, such as the aforementioned strings and numbers, in ways that are most beneficial for specific tasks.\n",
    "\n",
    "Lists are one of the most widely used data types in Python, and are simply various other data types that are listed in a specified sequence seperated by commas. Lists do not discriminate against data type, meaning you can create a list which contains both numbers and strings. Lists are muttable data types, so they can be changed once they are initialized either through the removal of items, addition of items, or sorting of them. Lists are created simply by enclosing your values in square brackets ([ ]), and blank lists can be created simply by naming them: "
   ]
  },
  {
   "cell_type": "code",
   "execution_count": 17,
   "metadata": {},
   "outputs": [
    {
     "name": "stdout",
     "output_type": "stream",
     "text": [
      "['Entry1', 'Entry2']\n",
      "Entry1\n",
      "Entry2\n"
     ]
    }
   ],
   "source": [
    "testList= []\n",
    "testList.append(\"Entry1\")\n",
    "testList.append(\"Entry2\")\n",
    "print(testList)\n",
    "print(testList[0])\n",
    "print(testList[1])"
   ]
  },
  {
   "cell_type": "markdown",
   "metadata": {},
   "source": [
    "One important note about Lists and indices is that the first item in a List is at *index 0, not 1*. This means that the first entry in the list, \"Entry1\", is at index 0, and the second entry is at index 1. This is crucial in understanding loops later on.\n",
    "\n",
    "Dictionaries are another important data type that allow for variables to be quickly associated with one another via key-value pairs. Dictionaries solve the associative problems of lists through only allowing one value for a given key, and having no order to the Dictionary itself otherwise. This means that while the order is dependent in a List ([1, 2, 3, 4]) the order in a Dictionary is irrelevent ({'first': 1,'third': 3, 'fourth': 4, 'second': 2}). Dictionaries are created via curly brackets ({}), and consist of a key which is typically a number or string, and a value, which can be any data type, seperated by a colon and then delimited by commas. These allow for direct access to specific values when you know the key, as shown below:"
   ]
  },
  {
   "cell_type": "code",
   "execution_count": 32,
   "metadata": {},
   "outputs": [
    {
     "name": "stdout",
     "output_type": "stream",
     "text": [
      "1\n",
      "dict_keys(['first', 'third', 'fourth', 'second'])\n"
     ]
    },
    {
     "ename": "KeyError",
     "evalue": "0",
     "output_type": "error",
     "traceback": [
      "\u001b[0;31m---------------------------------------------------------------------------\u001b[0m",
      "\u001b[0;31mKeyError\u001b[0m                                  Traceback (most recent call last)",
      "\u001b[0;32m<ipython-input-32-bb144b210170>\u001b[0m in \u001b[0;36m<module>\u001b[0;34m\u001b[0m\n\u001b[1;32m      2\u001b[0m \u001b[0mprint\u001b[0m\u001b[0;34m(\u001b[0m\u001b[0mtestDict\u001b[0m\u001b[0;34m[\u001b[0m\u001b[0;34m'first'\u001b[0m\u001b[0;34m]\u001b[0m\u001b[0;34m)\u001b[0m\u001b[0;34m\u001b[0m\u001b[0;34m\u001b[0m\u001b[0m\n\u001b[1;32m      3\u001b[0m \u001b[0mprint\u001b[0m\u001b[0;34m(\u001b[0m\u001b[0mtestDict\u001b[0m\u001b[0;34m.\u001b[0m\u001b[0mkeys\u001b[0m\u001b[0;34m(\u001b[0m\u001b[0;34m)\u001b[0m\u001b[0;34m)\u001b[0m\u001b[0;34m\u001b[0m\u001b[0;34m\u001b[0m\u001b[0m\n\u001b[0;32m----> 4\u001b[0;31m \u001b[0mprint\u001b[0m\u001b[0;34m(\u001b[0m\u001b[0mtestDict\u001b[0m\u001b[0;34m[\u001b[0m\u001b[0;36m0\u001b[0m\u001b[0;34m]\u001b[0m\u001b[0;34m)\u001b[0m\u001b[0;34m\u001b[0m\u001b[0;34m\u001b[0m\u001b[0m\n\u001b[0m",
      "\u001b[0;31mKeyError\u001b[0m: 0"
     ]
    }
   ],
   "source": [
    "testDict = {'first': 1,'third': 3, 'fourth': 4, 'second': 2}\n",
    "print(testDict['first'])\n",
    "print(testDict.keys())\n",
    "print(testDict[0])"
   ]
  },
  {
   "cell_type": "markdown",
   "metadata": {},
   "source": [
    "As you can see, trying to access an element in the dictionary via an index (0) returns a keyerror, as the interpretor believes you are trying to find the value stored with key = (0). \n",
    "\n",
    "Tuples are read-only versions of lists, and will not be utilized much in the coming Modules. They are initialized much like lists are, except they are created using parentheses instead of brackets. The following is an example of the creation of a Tuple:"
   ]
  },
  {
   "cell_type": "code",
   "execution_count": 33,
   "metadata": {},
   "outputs": [
    {
     "name": "stdout",
     "output_type": "stream",
     "text": [
      "(12, 'twelve', 41.2)\n",
      "12\n"
     ]
    },
    {
     "ename": "TypeError",
     "evalue": "'tuple' object does not support item assignment",
     "output_type": "error",
     "traceback": [
      "\u001b[0;31m---------------------------------------------------------------------------\u001b[0m",
      "\u001b[0;31mTypeError\u001b[0m                                 Traceback (most recent call last)",
      "\u001b[0;32m<ipython-input-33-b918fe2e37c5>\u001b[0m in \u001b[0;36m<module>\u001b[0;34m\u001b[0m\n\u001b[1;32m      2\u001b[0m \u001b[0mprint\u001b[0m\u001b[0;34m(\u001b[0m\u001b[0mtestTuple\u001b[0m\u001b[0;34m)\u001b[0m\u001b[0;34m\u001b[0m\u001b[0;34m\u001b[0m\u001b[0m\n\u001b[1;32m      3\u001b[0m \u001b[0mprint\u001b[0m\u001b[0;34m(\u001b[0m\u001b[0mtestTuple\u001b[0m\u001b[0;34m[\u001b[0m\u001b[0;36m0\u001b[0m\u001b[0;34m]\u001b[0m\u001b[0;34m)\u001b[0m\u001b[0;34m\u001b[0m\u001b[0;34m\u001b[0m\u001b[0m\n\u001b[0;32m----> 4\u001b[0;31m \u001b[0mtestTuple\u001b[0m\u001b[0;34m[\u001b[0m\u001b[0;36m0\u001b[0m\u001b[0;34m]\u001b[0m \u001b[0;34m=\u001b[0m \u001b[0;34m'one'\u001b[0m\u001b[0;34m\u001b[0m\u001b[0;34m\u001b[0m\u001b[0m\n\u001b[0m",
      "\u001b[0;31mTypeError\u001b[0m: 'tuple' object does not support item assignment"
     ]
    }
   ],
   "source": [
    "testTuple = (12, 'twelve', 41.2)\n",
    "print(testTuple)\n",
    "print(testTuple[0])\n",
    "testTuple[0] = 'one'"
   ]
  },
  {
   "cell_type": "markdown",
   "metadata": {},
   "source": [
    "## 1.6 Conditional Statements\n",
    "Variables are useful for storing information, but often times we write programs to compare two variables or check for a certain condition to be True or False. Conditional statements in Python come in the form of If statements, where a condition is checked to be either True or False, and based on the result carry out a certain block of code. Below is an example of a basic If statement:"
   ]
  },
  {
   "cell_type": "code",
   "execution_count": null,
   "metadata": {},
   "outputs": [],
   "source": [
    "x = 1\n",
    "y = 2\n",
    "if x < y:\n",
    "    print(\"x is less than y\")"
   ]
  },
  {
   "cell_type": "markdown",
   "metadata": {},
   "source": [
    "Conditional statements may seem straightforward, but they can rapidly become complicated and convoluted unless you know what your end goal is. If statements ca be expanded upon with 'If-Else' statements, such as:"
   ]
  },
  {
   "cell_type": "code",
   "execution_count": null,
   "metadata": {},
   "outputs": [],
   "source": [
    "if x > y:\n",
    "    print(\"x is greater than y\")\n",
    "else:\n",
    "    print(\"x is less than y\")"
   ]
  },
  {
   "cell_type": "markdown",
   "metadata": {},
   "source": [
    "This is a prime example of the beauty of Python: the readability. Plain and simple, this condition states: if x is greater than y, print XXX. Else, print YYY. If statements can be expanded upon even further through the use of 'Elif' statements, where various conditions can be checked:"
   ]
  },
  {
   "cell_type": "code",
   "execution_count": null,
   "metadata": {},
   "outputs": [],
   "source": [
    "if x > y: \n",
    "    print(\"x is greater than y\")\n",
    "elif x*y == y:\n",
    "    print(\"x times y is still y\")\n",
    "else:\n",
    "    print(\"x is less than y\")"
   ]
  },
  {
   "cell_type": "markdown",
   "metadata": {},
   "source": [
    "In this case, the 'else' statement is a catch-all in a conditional statement with two checks. Notice that when comparing to a specific value via equals, two equals signs are required (==). This is because in Python a single equals sign (=) is reserved for assignments, whereas a double (==) is reserved for conditionals. These statements can become even easier to read through different notation to check for multiple conditions, such as:"
   ]
  },
  {
   "cell_type": "code",
   "execution_count": null,
   "metadata": {},
   "outputs": [],
   "source": [
    "if x < y and x*y == y:\n",
    "    print(\"x is less than y, and when multiplied by y, is just y.\")"
   ]
  },
  {
   "cell_type": "markdown",
   "metadata": {},
   "source": [
    "Python is full of various syntax shortcuts and readability features such as these, which you may notice throughout these Modules. One of the most common you will encounter in Python is the (+=) and (-=) operators which simply add on the proceeding number or value to the preceeding variable. See the following:"
   ]
  },
  {
   "cell_type": "code",
   "execution_count": 9,
   "metadata": {},
   "outputs": [
    {
     "name": "stdout",
     "output_type": "stream",
     "text": [
      "6\n",
      "1\n"
     ]
    }
   ],
   "source": [
    "x = 1\n",
    "x += 5\n",
    "print(x)\n",
    "y = 3\n",
    "y -= 2\n",
    "print(y)"
   ]
  },
  {
   "cell_type": "markdown",
   "metadata": {},
   "source": [
    "## 1.7 For and While Loops\n",
    "Now that you can create variables and compare them to one another, the final fundamental component inherent to Python is the concept of looping. Loops instruct the computer to run through a series of defined tasks X number of times, or until a certain condition is true. This is where For loops and While loops differ; For loops read as: \"For each x in the list, do that\" whereas While loops read as: \"While this condition is True/False, do that.\" See the examples below:"
   ]
  },
  {
   "cell_type": "code",
   "execution_count": 19,
   "metadata": {},
   "outputs": [
    {
     "name": "stdout",
     "output_type": "stream",
     "text": [
      "0\n",
      "1\n",
      "3\n",
      "6\n",
      "10\n",
      "15\n",
      "Final xFSum: 15\n",
      "xRange is: 6 values long.\n",
      "1\n",
      "2\n",
      "3\n",
      "4\n",
      "5\n",
      "Final xWSum: 5\n"
     ]
    }
   ],
   "source": [
    "xRange = [0, 1, 2, 3, 4, 5]\n",
    "xFSum = 0\n",
    "xWSum = 0\n",
    "for x in xRange:\n",
    "    xFSum += x\n",
    "    print(xFSum)   \n",
    "print(\"Final xFSum: \" + str(xFSum))\n",
    "\n",
    "print(\"xRange is: \" + str(len(xRange)) + \" values long.\")\n",
    "# for i in range(0, len(xRange)):\n",
    "#     xFSum += xRange[i]\n",
    "#     print(xFSum)\n",
    "# print(\"Final xFSum: \" + str(xFSum))\n",
    "\n",
    "while xWSum < 5:\n",
    "    xWSum += 1\n",
    "    print(xWSum)\n",
    "print(\"Final xWSum: \" + str(xWSum))"
   ]
  },
  {
   "cell_type": "markdown",
   "metadata": {},
   "source": [
    "In the above cell you should notice two things: two different styles of For loops, and that one is preceeded by a pound symbol on each line. These indicate comments in the code, which means they are similar in function to Markdown cells but without the formatting capabilities. These lines will not be run by the interpretor when compiling the code, but can be read by the coder for informational purposes. In Jupyter Notebooks, lines can be commented out by highlighting them and pressing Ctrl+/, and uncommented through the same procedure. Commenting your code is incredibly helpful when you hand off your deliverables to others so they can more readily understand what the purpose of each line is. \n",
    "\n",
    "Now that you understand how commenting works, uncomment the second For loop declaration and run the cell again. You will notice that the output is the same, but the initialization is different. The first method reads as: \"For each value 'x' in xRange, do the following.\" The second method is: \"For integer 'i' between values 0 and the length of the list xRange, do the following.\" The first is useful when you are planning on using the actual values in the list, and are not interested in tracking the particular *index* of that value in the list. For this block we are only interested in summing the values, so this is a valid method. The second For loop accesses each element in xRange via its index through the iteration variabel 'i', which is initialized at i=0 and increase in value by 1 every time the loop completes until it reaches the end of the range (which in this case is the length of xRange).\n",
    "\n",
    "## 1.8 Functions\n",
    "Functions are what truly make programming worthwhile, and allow for code to be reused over multiple scenarios. All of the examples above have been great for one-off tasks, but what about tasks that you need to carry out for a multitude of variables? That is where Functions come in. Functions are blocks of code that return a value or values, typically after manipulating inputs in some way. Below is an example of a method which evaluates the quadratic formula for a given (a,b,c):"
   ]
  },
  {
   "cell_type": "code",
   "execution_count": 29,
   "metadata": {},
   "outputs": [
    {
     "name": "stdout",
     "output_type": "stream",
     "text": [
      "((-0.9999999999999999+1.4142135623730951j), (-1-1.4142135623730951j))\n"
     ]
    }
   ],
   "source": [
    "def quadForm(a, b, c):\n",
    "    xPos = (-b + (b**2-4*a*c)**0.5)/(2*a)\n",
    "    xNeg = (-b - (b**2-4*a*c)**0.5)/(2*a)\n",
    "    return (xPos, xNeg)\n",
    "\n",
    "test = quadForm(1, 2, 3)\n",
    "print(test)"
   ]
  },
  {
   "cell_type": "markdown",
   "metadata": {},
   "source": [
    "Functions always need to be *defined*, requiring the 'def' before the name of the function, followed by its expected inputs captured within parentheses and followed by a colon. The names for the inputs can be any variables that you like as they are *local variables* not *global variables*. This means that the (a, b, c) that are expected and manipulated in quadForm are specific *only* to quadForm. This allows for the reuse of variable names within different functions without having any adverse affects on those functions.  \n",
    "\n",
    "You may also notice that this function utilizes a new operator: (\\*\\*). This is how we represent exponents in Python, such as $\\sqrt{b^2-4ac}$. Additionally, you may notice the 'return' statement at the end of the function. This is how you communicate the manipulated values within the function to the rest of the script: by returning them to some variable(s). In the above example I return both the positive and negative values of the quadratic formula as a tuple (xPos, xNeg), and assign that tuple to the 'test' variable. This allows me to then print the tuple 'test' to the console to view the quadratic soluton for the given (a, b, c). "
   ]
  },
  {
   "cell_type": "markdown",
   "metadata": {},
   "source": [
    "## 1.9 Classes and Object Oriented Coding"
   ]
  },
  {
   "cell_type": "markdown",
   "metadata": {},
   "source": [
    "Another benefit of Python is its support of Object Oriented Programming (OOP). Essentially, this means that rather than having a single .py file that contains an immense number of lines of code, you can break that into different classes which contain specific methods. Those classes contain methods that are particular to the specific class, and your main .py then imports those classes to utilize those methods. This may seem convoluted, but the idea behind this is to use the classes to initialize instances of your written classes for various scenarios (known as Objects). Whole books have been written on Object Oriented Programming so I won't dive deep on this topic, but the overall gist is to use Classes as the backbone for which many Objects can be created. For example, you may have a Buffer class which takes in a CSV, formats it into a shapefile, and applies a certain buffer distance to it. Each of those steps would be methods within the Buffer class, but the CSV you pass in and Shapefile you create would be an instance of that class and therefore be an Object. These terms apply to GIS processing, but the methodology can be applied to any number of use cases. Classes then are additional .py files which contain methods that pertain to the purpose of the class.\n",
    "\n",
    "## 2.0 Module 1 Project\n",
    "With the basis of Python outlined above, it is time to apply that knowledge. A data file has been provided in CSV format containing information for horizontal wells. However, the API's per well in this file are only API-8's, meaning they do not contain the state code for Colorado (08). In order for these wells to be linked to additional datasets, an API-10 must be generated. Additionally, as this data is accumulated from multiple different datasources there are errors in the API data; particularly, some will already have an '05' or '5' prepended, and some may contain dashes which need to be removed (total character count needs to equal 10).\n",
    "\n",
    "**The Task:** Work with the data read in from \"Wells.csv\" to generate API-10s for each horizontal well bore and write that to the file. Below I have read in the data from the csv utilizing a package in Python called NumPy (called via np.XXX) which you will utilize greatly the more you interact with Python."
   ]
  },
  {
   "cell_type": "code",
   "execution_count": 58,
   "metadata": {
    "scrolled": false
   },
   "outputs": [
    {
     "name": "stdout",
     "output_type": "stream",
     "text": [
      "[['FID' 'API' 'Operator' ... 'Deviation' 'Field_Code' 'Field_Name']\n",
      " ['0' '10613700' 'BAYSWATER EXPLORATION & PRODUCTION LLC' ... 'Drifted'\n",
      "  '33399' 'GUNBARREL']\n",
      " ['1' '510621300' 'GREAT WESTERN OPERATING COMPANY LLC' ... 'Drifted'\n",
      "  '73760' 'RIMROCK']\n",
      " ...\n",
      " ['98' '10969600' 'COLORADO INTERSTATE GAS COMPANY LLC' ... 'Horizontal'\n",
      "  '83000' 'TOTEM']\n",
      " ['99' '10970300' 'COLORADO INTERSTATE GAS COMPANY LLC' ... 'Horizontal'\n",
      "  '83000' 'TOTEM']\n",
      " ['100' '10970400' 'COLORADO INTERSTATE GAS COMPANY LLC' ... 'Horizontal'\n",
      "  '83000' 'TOTEM']]\n"
     ]
    }
   ],
   "source": [
    "import numpy as np\n",
    "# Read in the data file from a CSV with delimiter of ';', and each value will be read as a string\n",
    "wellData = np.genfromtxt(\"Wells.csv\", delimiter=';', dtype=str)\n",
    "print(wellData)\n",
    "\n",
    "# Method to modify APIs\n",
    "def api10Gen(data):\n",
    "    \n",
    "    \n",
    "    np.savetxt('api10s.csv', api10, delimiter=',',fmt='%s')\n",
    "    return api10"
   ]
  },
  {
   "cell_type": "code",
   "execution_count": 57,
   "metadata": {},
   "outputs": [
    {
     "data": {
      "text/plain": [
       "['0510613700',\n",
       " '0510623101',\n",
       " '0510624800',\n",
       " '0510624801',\n",
       " '0510628100',\n",
       " '0510628501',\n",
       " '0510637701',\n",
       " '0510642000',\n",
       " '0510643800',\n",
       " '0510645100',\n",
       " '0510649200',\n",
       " '0510662800',\n",
       " '0510670300',\n",
       " '0510674700',\n",
       " '0510679300',\n",
       " '0510698400',\n",
       " '0510698701',\n",
       " '0510702300',\n",
       " '0510705300',\n",
       " '0510719900',\n",
       " '0510720100',\n",
       " '0510740900',\n",
       " '0510757800',\n",
       " '0510785600',\n",
       " '0510802300',\n",
       " '0510805900',\n",
       " '0510814200',\n",
       " '0510826600',\n",
       " '0510866800',\n",
       " '0510872000',\n",
       " '0510876700',\n",
       " '0510876800',\n",
       " '0510881000',\n",
       " '0510882900',\n",
       " '0510883100',\n",
       " '0510883900',\n",
       " '0510890200',\n",
       " '0510891900',\n",
       " '0510898200',\n",
       " '0510899700',\n",
       " '0510902300',\n",
       " '0510907300',\n",
       " '0510910300',\n",
       " '0510912000',\n",
       " '0510913200',\n",
       " '0510919200',\n",
       " '0510919300',\n",
       " '0510927400',\n",
       " '0510927500',\n",
       " '0510929200',\n",
       " '0510932900',\n",
       " '0510933000',\n",
       " '0510933100',\n",
       " '0510933200',\n",
       " '0510936200',\n",
       " '0510936300',\n",
       " '0510936500',\n",
       " '0510936600',\n",
       " '0510942500',\n",
       " '0510942600',\n",
       " '0510945700',\n",
       " '0510946800',\n",
       " '0510950600',\n",
       " '0510950900',\n",
       " '0510951700',\n",
       " '0510951800',\n",
       " '0510952700',\n",
       " '0510952800',\n",
       " '0510952900',\n",
       " '0510953100',\n",
       " '0510956300',\n",
       " '0510958200',\n",
       " '0510958400',\n",
       " '0510960200',\n",
       " '0510966500',\n",
       " '0510966600',\n",
       " '0510966700',\n",
       " '0510967600',\n",
       " '0510967700',\n",
       " '0510967800',\n",
       " '0510967900',\n",
       " '0510968300',\n",
       " '0510968400',\n",
       " '0510968500',\n",
       " '0510968600',\n",
       " '0510968700',\n",
       " '0510968800',\n",
       " '0510968900',\n",
       " '0510969200',\n",
       " '0510969300',\n",
       " '0510969500',\n",
       " '0510969600',\n",
       " '0510970300',\n",
       " '0510970400']"
      ]
     },
     "execution_count": 57,
     "metadata": {},
     "output_type": "execute_result"
    }
   ],
   "source": [
    "def api10GenKey(data):\n",
    "    apis, api10 = data.T[1][1:], []\n",
    "    for api in apis:\n",
    "        if '-' in api:\n",
    "            ind = api.index('-')\n",
    "            api = str(api[:ind]) + str(api[ind+1:])\n",
    "        if len(api) > 8 and len(api) < 10:\n",
    "            if api[0] == '5':\n",
    "                api = \"0\" + str(api)\n",
    "                continue\n",
    "            else: \n",
    "                print(\"Following API Unexpected:\" + str(api))\n",
    "        elif len(api) == 10 and api[0:2] == \"05\":\n",
    "            continue\n",
    "        api = \"05\" + str(api)\n",
    "        api10.append(api)\n",
    "    np.savetxt('api10s.csv', api10, delimiter=',',fmt='%s')\n",
    "    return api10\n",
    "\n",
    "api10GenKey(wellData)"
   ]
  },
  {
   "cell_type": "code",
   "execution_count": null,
   "metadata": {},
   "outputs": [],
   "source": []
  }
 ],
 "metadata": {
  "kernelspec": {
   "display_name": "Python 2",
   "language": "python",
   "name": "python2"
  },
  "language_info": {
   "codemirror_mode": {
    "name": "ipython",
    "version": 2
   },
   "file_extension": ".py",
   "mimetype": "text/x-python",
   "name": "python",
   "nbconvert_exporter": "python",
   "pygments_lexer": "ipython2",
   "version": "2.7.16"
  }
 },
 "nbformat": 4,
 "nbformat_minor": 2
}
